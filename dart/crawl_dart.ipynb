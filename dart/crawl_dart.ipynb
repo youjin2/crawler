{
 "cells": [
  {
   "cell_type": "code",
   "execution_count": 1,
   "metadata": {
    "collapsed": true
   },
   "outputs": [],
   "source": [
    "from selenium import webdriver\n",
    "import urllib\n",
    "\n",
    "import subprocess\n",
    "import os\n",
    "import re\n",
    "import logging\n",
    "\n",
    "import pandas as pd\n",
    "\n",
    "def srcAttribute(trTag):\n",
    "    \n",
    "    # finantial report column\n",
    "    fr = trTag.find_elements_by_tag_name('td')[3]\n",
    "    \n",
    "    # covered by div tag\n",
    "    src = trTag.find_elements_by_tag_name('div')[0]\n",
    "    \n",
    "    # outer download link \n",
    "    aTag = src.find_elements_by_tag_name('a')[0]\n",
    "    \n",
    "    # java-script download link\n",
    "    jsLink = aTag.get_attribute('onclick')\n",
    "    \n",
    "    startIndex = jsLink.index('http')\n",
    "    endIndex = jsLink.index('zip') + 3\n",
    "    \n",
    "    return jsLink[startIndex:endIndex]\n",
    "\n",
    "\n",
    "def setLogger(log_level=logging.DEBUG):\n",
    "    \"\"\"set_logger\n",
    "                                                                  \n",
    "    Parameters\n",
    "    ----------\n",
    "                                                                  \n",
    "    log_level : logging.level\n",
    "                                                                  \n",
    "    Returns\n",
    "    -------\n",
    "    \"\"\"\n",
    "    from importlib import reload\n",
    "    reload(logging)\n",
    "                                                                  \n",
    "    logger = logging.getLogger('Logger')\n",
    "    fomatter = logging.Formatter('[%(levelname)s] > %(message)s')\n",
    "    streamHandler = logging.StreamHandler()\n",
    "    streamHandler.setFormatter(fomatter)\n",
    "    logger.addHandler(streamHandler)\n",
    "                                                                  \n",
    "    if log_level is not None:\n",
    "        logger.setLevel(level=log_level)\n",
    "                                                                  \n",
    "    return logger\n",
    "\n",
    "def download(url, logger):\n",
    "        \n",
    "    logger.info('======'* 10)\n",
    "    logger.info('URL: {}'.format(url))\n",
    "    logger.info('======'* 10)\n",
    "\n",
    "    # unzip fille name\n",
    "    fileName = url.split('/')[-1]\n",
    "    # save dir\n",
    "    saveDir = '_'.join(fileName.split('_')[:-1])    \n",
    "\n",
    "    # download\n",
    "    state = subprocess.call(['wget', '-nc', url])\n",
    "    if state == 0:\n",
    "        logger.debug('download finished!')\n",
    "    else:\n",
    "        logger.debug('download failed!')\n",
    "\n",
    "    # unzip\n",
    "    state = subprocess.call(['unzip', '-O', 'euc-kr', fileName, '-d', saveDir])\n",
    "    if state == 0:\n",
    "        logger.debug('unzip finished!')\n",
    "    else:\n",
    "        logger.debug('unzip failed!')\n",
    "\n",
    "    # root dir\n",
    "    prevDir = os.getcwd()\n",
    "    # change to save dir\n",
    "    os.chdir(saveDir)\n",
    "    # find Consolidated Financial Statements\n",
    "    cfsName = [f for f in os.listdir(os.getcwd()) if '연결' in f][0]\n",
    "    # save file name (after converting encoding to utf-8)\n",
    "    saveName = cfsName.split('_')[-1]\n",
    "    # convert encoding from euc-kr to utf-8\n",
    "    state = subprocess.call(['iconv', '-f', 'euc-kr', '-t', 'utf-8', cfsName, '-o', saveName])\n",
    "    if state == 0:\n",
    "        logger.debug('encoding finished!')\n",
    "    else:\n",
    "        logger.debug('encoding failed!')\n",
    "\n",
    "    # change to previous dir\n",
    "    os.chdir(prevDir)\n",
    "    \n",
    "    logger.info('process succesfully finisihed!')\n",
    "\n",
    "logger = setLogger()\n",
    "\n",
    "# main url\n",
    "URL ='http://dart.fss.or.kr/dsext002/main.do'\n",
    "\n",
    "# open browser\n",
    "driver = webdriver.PhantomJS()\n",
    "driver.get(URL)\n",
    "\n",
    "# get main table\n",
    "table = driver.find_elements_by_class_name('table_list')[0]\n",
    "# tbody tag in table \n",
    "body = table.find_elements_by_tag_name('tbody')[0]\n",
    "# each rows in table\n",
    "trTags = body.find_elements_by_tag_name('tr')\n",
    "\n",
    "# url list to download\n",
    "downloadURLs = [srcAttribute(tag) for tag in trTags]\n",
    "\n",
    "for url in downloadURLs:\n",
    "    download(url, logger)"
   ]
  },
  {
   "cell_type": "code",
   "execution_count": 12,
   "metadata": {
    "collapsed": true
   },
   "outputs": [],
   "source": [
    "df = pd.read_table('2015_4Q_BS/20160531.txt')\n",
    "df"
   ]
  },
  {
   "cell_type": "code",
   "execution_count": null,
   "metadata": {
    "collapsed": true
   },
   "outputs": [],
   "source": []
  },
  {
   "cell_type": "code",
   "execution_count": null,
   "metadata": {
    "collapsed": true
   },
   "outputs": [],
   "source": []
  },
  {
   "cell_type": "code",
   "execution_count": null,
   "metadata": {
    "collapsed": true
   },
   "outputs": [],
   "source": []
  },
  {
   "cell_type": "code",
   "execution_count": null,
   "metadata": {
    "collapsed": true
   },
   "outputs": [],
   "source": []
  },
  {
   "cell_type": "code",
   "execution_count": null,
   "metadata": {
    "collapsed": true
   },
   "outputs": [],
   "source": []
  },
  {
   "cell_type": "code",
   "execution_count": null,
   "metadata": {
    "collapsed": true
   },
   "outputs": [],
   "source": []
  },
  {
   "cell_type": "code",
   "execution_count": null,
   "metadata": {
    "collapsed": true
   },
   "outputs": [],
   "source": []
  }
 ],
 "metadata": {
  "kernelspec": {
   "display_name": "Python 3",
   "language": "python",
   "name": "python3"
  },
  "language_info": {
   "codemirror_mode": {
    "name": "ipython",
    "version": 3
   },
   "file_extension": ".py",
   "mimetype": "text/x-python",
   "name": "python",
   "nbconvert_exporter": "python",
   "pygments_lexer": "ipython3",
   "version": "3.6.3"
  }
 },
 "nbformat": 4,
 "nbformat_minor": 2
}
