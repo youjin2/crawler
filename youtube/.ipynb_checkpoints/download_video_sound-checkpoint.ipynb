{
 "cells": [
  {
   "cell_type": "code",
   "execution_count": 1,
   "metadata": {},
   "outputs": [],
   "source": [
    "from selenium import webdriver\n",
    "from selenium.webdriver.support.ui import WebDriverWait\n",
    "from selenium.webdriver.support import expected_conditions as EC\n",
    "from selenium.webdriver.common.by import By\n",
    "from selenium.webdriver.common.keys import Keys\n",
    "\n",
    "import os\n",
    "\n",
    "import re\n",
    "import time\n",
    "\n",
    "from collections import namedtuple\n",
    "\n",
    "import tqdm"
   ]
  },
  {
   "cell_type": "code",
   "execution_count": 2,
   "metadata": {},
   "outputs": [],
   "source": [
    "# url = 'https://www.youtube.com/channel/UCGDA1e6qQSAH0R9hoip9VrA'\n",
    "url = 'https://www.youtube.com/channel/UCGDA1e6qQSAH0R9hoip9VrA/videos'"
   ]
  },
  {
   "cell_type": "code",
   "execution_count": 3,
   "metadata": {},
   "outputs": [],
   "source": [
    "# pagedown for PhantomJS does not works..\n",
    "# driver = webdriver.PhantomJS()\n",
    "driver = webdriver.Chrome()\n",
    "\n",
    "driver.get(url)\n",
    "time.sleep(1)"
   ]
  },
  {
   "cell_type": "code",
   "execution_count": 4,
   "metadata": {},
   "outputs": [],
   "source": [
    "bodyTag = driver.find_element_by_tag_name(\"body\")\n",
    "\n",
    "nPageDown = 30\n",
    "\n",
    "while nPageDown:\n",
    "    bodyTag.send_keys(Keys.PAGE_DOWN)\n",
    "    time.sleep(0.2)\n",
    "    nPageDown-=1"
   ]
  },
  {
   "cell_type": "code",
   "execution_count": 5,
   "metadata": {},
   "outputs": [
    {
     "data": {
      "text/plain": [
       "130"
      ]
     },
     "execution_count": 5,
     "metadata": {},
     "output_type": "execute_result"
    }
   ],
   "source": [
    "len(bodyTag.find_elements_by_xpath('//div/h3/a'))"
   ]
  },
  {
   "cell_type": "code",
   "execution_count": 6,
   "metadata": {},
   "outputs": [],
   "source": [
    "aTags = bodyTag.find_elements_by_xpath('//div/h3/a')"
   ]
  },
  {
   "cell_type": "code",
   "execution_count": 7,
   "metadata": {},
   "outputs": [],
   "source": [
    "a = aTags[0]"
   ]
  },
  {
   "cell_type": "code",
   "execution_count": 8,
   "metadata": {},
   "outputs": [],
   "source": [
    "video = namedtuple('video', ['title', 'url'])"
   ]
  },
  {
   "cell_type": "code",
   "execution_count": 9,
   "metadata": {},
   "outputs": [],
   "source": [
    "videoList = []\n",
    "for a in aTags:\n",
    "    title = a.get_attribute('title')\n",
    "    url = a.get_attribute('href')\n",
    "    videoList.append(video(title, url))"
   ]
  },
  {
   "cell_type": "code",
   "execution_count": 10,
   "metadata": {},
   "outputs": [
    {
     "name": "stdout",
     "output_type": "stream",
     "text": [
      "⚡️영어회화 | Tip | \"언제\" & \"얼마나 오래\" - 질문에 쉽고 자연스럽게 대답하는 요령\n",
      "https://www.youtube.com/watch?v=SdaThN1Yn0k\n"
     ]
    }
   ],
   "source": [
    "print(videoList[3].title)\n",
    "print(videoList[3].url)"
   ]
  },
  {
   "cell_type": "code",
   "execution_count": 17,
   "metadata": {},
   "outputs": [],
   "source": [
    "t = aTags[0].text"
   ]
  },
  {
   "cell_type": "code",
   "execution_count": 16,
   "metadata": {},
   "outputs": [
    {
     "data": {
      "text/plain": [
       "'https://www.youtube.com/watch?v=J9ZFRL44Crg'"
      ]
     },
     "execution_count": 16,
     "metadata": {},
     "output_type": "execute_result"
    }
   ],
   "source": [
    "aTags[0].get_attribute('href')"
   ]
  },
  {
   "cell_type": "code",
   "execution_count": 11,
   "metadata": {},
   "outputs": [],
   "source": [
    "driver.close()"
   ]
  },
  {
   "cell_type": "code",
   "execution_count": null,
   "metadata": {},
   "outputs": [],
   "source": []
  },
  {
   "cell_type": "code",
   "execution_count": null,
   "metadata": {},
   "outputs": [],
   "source": []
  },
  {
   "cell_type": "code",
   "execution_count": 37,
   "metadata": {},
   "outputs": [],
   "source": [
    "url = 'http://convert2mp3.net/index.php'"
   ]
  },
  {
   "cell_type": "code",
   "execution_count": 38,
   "metadata": {},
   "outputs": [],
   "source": [
    "driver = webdriver.Chrome()\n",
    "driver.get(url)"
   ]
  },
  {
   "cell_type": "code",
   "execution_count": 39,
   "metadata": {},
   "outputs": [
    {
     "name": "stdout",
     "output_type": "stream",
     "text": [
      "⚡️ 영어회화 | 자연스러운 대화의 흐름을 위한 표현들을 배우자 - Part 1 of 3\n",
      "https://www.youtube.com/watch?v=u7wjngqimKc\n"
     ]
    }
   ],
   "source": [
    "artistName = 'convs'\n",
    "\n",
    "i = 1\n",
    "\n",
    "curTitle = videoList[i].title\n",
    "curURL = videoList[i].url\n",
    "\n",
    "print(curTitle)\n",
    "print(curURL)"
   ]
  },
  {
   "cell_type": "code",
   "execution_count": 40,
   "metadata": {},
   "outputs": [],
   "source": [
    "# figure appears too late\n",
    "time.sleep(5)"
   ]
  },
  {
   "cell_type": "code",
   "execution_count": 16,
   "metadata": {},
   "outputs": [],
   "source": [
    "blockKey = 'style=\"position: absolute !important; height: 20px !important; width: 20px !important; top: 3px !important; left: 3px !important; background: '"
   ]
  },
  {
   "cell_type": "code",
   "execution_count": 17,
   "metadata": {},
   "outputs": [
    {
     "name": "stdout",
     "output_type": "stream",
     "text": [
      "1\n"
     ]
    }
   ],
   "source": [
    "if blockKey in driver.page_source:\n",
    "    print(1)\n",
    "\n",
    "    endIdx = driver.page_source.find(blockKey)\n",
    "    startIdx = driver.page_source.split(blockKey)[0].rfind('id=')\n",
    "\n",
    "    idValue = driver.page_source[startIdx:endIdx].strip('').split('\"')[1]\n",
    "\n",
    "    xButton = driver.find_element_by_id(idValue)\n",
    "    xButton.click()\n",
    "    WebDriverWait(driver, 10).until(EC.presence_of_element_located([By.XPATH, \"//button[contains(text(), 'umwandeln')]\"]))\n",
    "else:\n",
    "    print(2)"
   ]
  },
  {
   "cell_type": "code",
   "execution_count": null,
   "metadata": {},
   "outputs": [],
   "source": []
  },
  {
   "cell_type": "code",
   "execution_count": 18,
   "metadata": {},
   "outputs": [],
   "source": [
    "urlInput = driver.find_element_by_name('url')\n",
    "urlInput.clear()\n",
    "\n",
    "urlInput.send_keys(curURL)"
   ]
  },
  {
   "cell_type": "code",
   "execution_count": null,
   "metadata": {},
   "outputs": [],
   "source": []
  },
  {
   "cell_type": "code",
   "execution_count": 19,
   "metadata": {},
   "outputs": [
    {
     "data": {
      "text/plain": [
       "<selenium.webdriver.remote.webelement.WebElement (session=\"d1e926134b23b88ea476deecac50f0c7\", element=\"0.8675218078723321-1\")>"
      ]
     },
     "execution_count": 19,
     "metadata": {},
     "output_type": "execute_result"
    }
   ],
   "source": [
    "button = driver.find_elements_by_xpath(\"//button[contains(text(), 'umwandeln')]\")[0]\n",
    "button.click()\n",
    "WebDriverWait(driver, 10).until(EC.presence_of_element_located([By.CLASS_NAME, 'span9']))"
   ]
  },
  {
   "cell_type": "code",
   "execution_count": null,
   "metadata": {},
   "outputs": [],
   "source": []
  },
  {
   "cell_type": "code",
   "execution_count": 20,
   "metadata": {},
   "outputs": [],
   "source": [
    "buttons = driver.find_elements_by_class_name('btn')"
   ]
  },
  {
   "cell_type": "code",
   "execution_count": 21,
   "metadata": {},
   "outputs": [],
   "source": [
    "clearInterpret, clearTitle = [b for b in buttons if 'bearbeiten' in b.text]\n",
    "nextStep = [b for b in buttons if 'Weiter' in b.text][0]"
   ]
  },
  {
   "cell_type": "code",
   "execution_count": null,
   "metadata": {},
   "outputs": [],
   "source": []
  },
  {
   "cell_type": "code",
   "execution_count": 22,
   "metadata": {},
   "outputs": [],
   "source": [
    "clearInterpret.click()\n",
    "\n",
    "inputArtist = driver.find_element_by_id('inputArtist')\n",
    "inputArtist.clear()\n",
    "inputArtist.send_keys(artistName)"
   ]
  },
  {
   "cell_type": "code",
   "execution_count": 23,
   "metadata": {},
   "outputs": [],
   "source": [
    "clearTitle.click()\n",
    "\n",
    "inputTitle = driver.find_element_by_id('inputTitle')\n",
    "inputTitle.clear()\n",
    "inputTitle.send_keys(curTitle)"
   ]
  },
  {
   "cell_type": "code",
   "execution_count": null,
   "metadata": {},
   "outputs": [],
   "source": []
  },
  {
   "cell_type": "code",
   "execution_count": 24,
   "metadata": {},
   "outputs": [],
   "source": [
    "nextStep.click()"
   ]
  },
  {
   "cell_type": "code",
   "execution_count": 25,
   "metadata": {},
   "outputs": [
    {
     "data": {
      "text/plain": [
       "<selenium.webdriver.remote.webelement.WebElement (session=\"d1e926134b23b88ea476deecac50f0c7\", element=\"0.22423573894849458-1\")>"
      ]
     },
     "execution_count": 25,
     "metadata": {},
     "output_type": "execute_result"
    }
   ],
   "source": [
    "WebDriverWait(driver, 10).until(EC.presence_of_element_located([By.CLASS_NAME, 'icon-download']))"
   ]
  },
  {
   "cell_type": "code",
   "execution_count": null,
   "metadata": {},
   "outputs": [],
   "source": []
  },
  {
   "cell_type": "code",
   "execution_count": 26,
   "metadata": {},
   "outputs": [],
   "source": [
    "buttons = driver.find_elements_by_class_name('btn')"
   ]
  },
  {
   "cell_type": "code",
   "execution_count": 27,
   "metadata": {},
   "outputs": [],
   "source": [
    "download = [b for b in buttons if 'Download starten' in b.text][0]"
   ]
  },
  {
   "cell_type": "code",
   "execution_count": 28,
   "metadata": {},
   "outputs": [],
   "source": [
    "download.click()"
   ]
  },
  {
   "cell_type": "code",
   "execution_count": 29,
   "metadata": {
    "scrolled": true
   },
   "outputs": [
    {
     "data": {
      "text/plain": [
       "'http://cdl55.convert2mp3.net/download.php?id=youtube_u7wjngqimKc&key=7YxPvNuCYx6I&d=y'"
      ]
     },
     "execution_count": 29,
     "metadata": {},
     "output_type": "execute_result"
    }
   ],
   "source": [
    "download.get_attribute('href')"
   ]
  },
  {
   "cell_type": "code",
   "execution_count": 30,
   "metadata": {},
   "outputs": [
    {
     "data": {
      "text/plain": [
       "'http://cdl7.convert2mp3.net/download.php?id=youtube_J9ZFRL44Crg&key=x2u5fEs6RrfA&d=y'"
      ]
     },
     "execution_count": 30,
     "metadata": {},
     "output_type": "execute_result"
    }
   ],
   "source": [
    "'http://cdl7.convert2mp3.net/download.php?id=youtube_J9ZFRL44Crg&key=x2u5fEs6RrfA&d=y'"
   ]
  },
  {
   "cell_type": "code",
   "execution_count": null,
   "metadata": {},
   "outputs": [],
   "source": []
  },
  {
   "cell_type": "code",
   "execution_count": 31,
   "metadata": {},
   "outputs": [],
   "source": [
    "downloadDir = '/home/ygene/다운로드/'"
   ]
  },
  {
   "cell_type": "code",
   "execution_count": 32,
   "metadata": {},
   "outputs": [],
   "source": [
    "if len(driver.window_handles) > 1:\n",
    "    for window in driver.window_handles[1:]:\n",
    "        driver.switch_to_window(window)\n",
    "        driver.close()"
   ]
  },
  {
   "cell_type": "code",
   "execution_count": 33,
   "metadata": {},
   "outputs": [],
   "source": [
    "driver.switch_to_window(driver.window_handles[0])"
   ]
  },
  {
   "cell_type": "code",
   "execution_count": 34,
   "metadata": {},
   "outputs": [
    {
     "data": {
      "text/plain": [
       "<selenium.webdriver.remote.webelement.WebElement (session=\"d1e926134b23b88ea476deecac50f0c7\", element=\"0.7039142760360853-1\")>"
      ]
     },
     "execution_count": 34,
     "metadata": {},
     "output_type": "execute_result"
    }
   ],
   "source": [
    "driver.get(url)\n",
    "WebDriverWait(driver, 10).until(EC.presence_of_element_located([By.CLASS_NAME, 'span9']))"
   ]
  },
  {
   "cell_type": "code",
   "execution_count": 35,
   "metadata": {},
   "outputs": [
    {
     "name": "stdout",
     "output_type": "stream",
     "text": [
      "Downloading Files..\n",
      "Downloading Files..\n",
      "Downloading Files..\n",
      "Downloading Files..\n",
      "Downloading Files..\n",
      "Downloading Files..\n",
      "Downloading Files..\n",
      "Downloading Files..\n",
      "Downloading Files..\n",
      "Downloading Files..\n",
      "Downloading Files..\n",
      "Downloading Files..\n",
      "Downloading Files..\n",
      "Downloading Files..\n",
      "Downloading Files..\n",
      "Downloading Files..\n",
      "Downloading Files..\n",
      "Downloading Files..\n",
      "Downloading Files..\n",
      "Downloading Files..\n",
      "Downloading Files..\n",
      "Downloading Files..\n",
      "Download Completed!\n"
     ]
    }
   ],
   "source": [
    "while True:\n",
    "    files = os.listdir(downloadDir)\n",
    "    finished = any([\n",
    "        not bool(re.search('^convs.*crdownload$', f))\n",
    "        for f in files\n",
    "    ])\n",
    "\n",
    "    if not finished:\n",
    "        print('Downloading Files..')\n",
    "        time.sleep(5)\n",
    "    else:\n",
    "        print('Download Completed!')\n",
    "        break"
   ]
  },
  {
   "cell_type": "code",
   "execution_count": 36,
   "metadata": {},
   "outputs": [],
   "source": [
    "for window in driver.window_handles:\n",
    "    driver.switch_to_window(window)\n",
    "    driver.close()"
   ]
  },
  {
   "cell_type": "code",
   "execution_count": null,
   "metadata": {},
   "outputs": [],
   "source": []
  },
  {
   "cell_type": "code",
   "execution_count": null,
   "metadata": {},
   "outputs": [],
   "source": []
  },
  {
   "cell_type": "code",
   "execution_count": null,
   "metadata": {},
   "outputs": [],
   "source": []
  },
  {
   "cell_type": "code",
   "execution_count": 47,
   "metadata": {},
   "outputs": [],
   "source": [
    "import pickle"
   ]
  },
  {
   "cell_type": "code",
   "execution_count": 49,
   "metadata": {},
   "outputs": [],
   "source": [
    "with open('videoList.pkl', 'wb') as f:\n",
    "    pickle.dump(videoList, f)"
   ]
  },
  {
   "cell_type": "code",
   "execution_count": null,
   "metadata": {},
   "outputs": [],
   "source": []
  },
  {
   "cell_type": "code",
   "execution_count": null,
   "metadata": {},
   "outputs": [],
   "source": []
  }
 ],
 "metadata": {
  "kernelspec": {
   "display_name": "Python 3",
   "language": "python",
   "name": "python3"
  },
  "language_info": {
   "codemirror_mode": {
    "name": "ipython",
    "version": 3
   },
   "file_extension": ".py",
   "mimetype": "text/x-python",
   "name": "python",
   "nbconvert_exporter": "python",
   "pygments_lexer": "ipython3",
   "version": "3.6.3"
  }
 },
 "nbformat": 4,
 "nbformat_minor": 2
}
